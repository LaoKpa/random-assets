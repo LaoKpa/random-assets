{
  "nbformat": 4,
  "nbformat_minor": 0,
  "metadata": {
    "colab": {
      "name": "Copy of FFOOD Final.ipynb",
      "provenance": [],
      "collapsed_sections": [],
      "include_colab_link": true
    },
    "kernelspec": {
      "name": "python3",
      "display_name": "Python 3"
    },
    "accelerator": "TPU"
  },
  "cells": [
    {
      "cell_type": "markdown",
      "metadata": {
        "id": "view-in-github",
        "colab_type": "text"
      },
      "source": [
        "<a href=\"https://colab.research.google.com/github/firmai/random-assets/blob/master/Copy_of_FFOOD_Final.ipynb\" target=\"_parent\"><img src=\"https://colab.research.google.com/assets/colab-badge.svg\" alt=\"Open In Colab\"/></a>"
      ]
    },
    {
      "cell_type": "code",
      "metadata": {
        "id": "t-5xTpxclAKT",
        "colab_type": "code",
        "colab": {
          "base_uri": "https://localhost:8080/",
          "height": 194
        },
        "outputId": "ced7af5e-11e1-403f-dc28-f188868703fc"
      },
      "source": [
        "!pip install shap"
      ],
      "execution_count": 1,
      "outputs": [
        {
          "output_type": "stream",
          "text": [
            "Requirement already satisfied: shap in /usr/local/lib/python3.6/dist-packages (0.33.0)\n",
            "Requirement already satisfied: numpy in /usr/local/lib/python3.6/dist-packages (from shap) (1.17.4)\n",
            "Requirement already satisfied: scikit-learn in /usr/local/lib/python3.6/dist-packages (from shap) (0.21.3)\n",
            "Requirement already satisfied: scipy in /usr/local/lib/python3.6/dist-packages (from shap) (1.3.3)\n",
            "Requirement already satisfied: pandas in /usr/local/lib/python3.6/dist-packages (from shap) (0.25.3)\n",
            "Requirement already satisfied: tqdm>4.25.0 in /usr/local/lib/python3.6/dist-packages (from shap) (4.28.1)\n",
            "Requirement already satisfied: joblib>=0.11 in /usr/local/lib/python3.6/dist-packages (from scikit-learn->shap) (0.14.1)\n",
            "Requirement already satisfied: pytz>=2017.2 in /usr/local/lib/python3.6/dist-packages (from pandas->shap) (2018.9)\n",
            "Requirement already satisfied: python-dateutil>=2.6.1 in /usr/local/lib/python3.6/dist-packages (from pandas->shap) (2.6.1)\n",
            "Requirement already satisfied: six>=1.5 in /usr/local/lib/python3.6/dist-packages (from python-dateutil>=2.6.1->pandas->shap) (1.12.0)\n"
          ],
          "name": "stdout"
        }
      ]
    },
    {
      "cell_type": "code",
      "metadata": {
        "id": "Y9zqd1BV5qPB",
        "colab_type": "code",
        "colab": {}
      },
      "source": [
        "import pandas as pd \n",
        "import shap\n",
        "import lightgbm as lgb\n",
        "import numpy as np\n",
        "from sklearn.metrics import mean_squared_error\n",
        "from keras.models import Sequential\n",
        "from keras.layers import Dense\n",
        "import numpy as np\n",
        "\n",
        "X_pr = pd.read_csv(\"https://github.com/firmai/random-assets/blob/master/data_clean.csv?raw=true\").set_index(\"Unnamed: 0\", drop=True)"
      ],
      "execution_count": 0,
      "outputs": []
    },
    {
      "cell_type": "code",
      "metadata": {
        "id": "oy9GLflalIsV",
        "colab_type": "code",
        "colab": {}
      },
      "source": [
        "X_pr.to_csv(\"frame.csv\")"
      ],
      "execution_count": 0,
      "outputs": []
    },
    {
      "cell_type": "code",
      "metadata": {
        "id": "u5CD-1NufeKS",
        "colab_type": "code",
        "colab": {}
      },
      "source": [
        "#X_pr = pd.read_csv()"
      ],
      "execution_count": 0,
      "outputs": []
    },
    {
      "cell_type": "code",
      "metadata": {
        "id": "2XNRijX-h8z1",
        "colab_type": "code",
        "colab": {
          "base_uri": "https://localhost:8080/",
          "height": 82
        },
        "outputId": "69d809a1-088c-4a62-bfe3-775ff5d37c55"
      },
      "source": [
        "from keras.models import Sequential\n",
        "from keras.layers import Dense\n",
        "import numpy as np"
      ],
      "execution_count": 58,
      "outputs": [
        {
          "output_type": "stream",
          "text": [
            "Using TensorFlow backend.\n"
          ],
          "name": "stderr"
        },
        {
          "output_type": "display_data",
          "data": {
            "text/html": [
              "<p style=\"color: red;\">\n",
              "The default version of TensorFlow in Colab will soon switch to TensorFlow 2.x.<br>\n",
              "We recommend you <a href=\"https://www.tensorflow.org/guide/migrate\" target=\"_blank\">upgrade</a> now \n",
              "or ensure your notebook will continue to use TensorFlow 1.x via the <code>%tensorflow_version 1.x</code> magic:\n",
              "<a href=\"https://colab.research.google.com/notebooks/tensorflow_version.ipynb\" target=\"_blank\">more info</a>.</p>\n"
            ],
            "text/plain": [
              "<IPython.core.display.HTML object>"
            ]
          },
          "metadata": {
            "tags": []
          }
        }
      ]
    },
    {
      "cell_type": "code",
      "metadata": {
        "id": "nNqEBTeskiI7",
        "colab_type": "code",
        "colab": {}
      },
      "source": [
        "X_pr.index.name = 'index'\n",
        "target = \"price\"\n",
        "first = X_pr.sample(int(len(X_pr)/2))\n",
        "second = X_pr[~X_pr.isin(first)].dropna()\n",
        "\n",
        "\n",
        "def modelling(first, second, target, inter_portion=0.5, sqr_portion=0.5, contribution_portion=0.9, final_contribution=0.9, final=False):\n",
        "  \n",
        "  cols_drop = [target ]\n",
        "\n",
        "  def shap_frame(first,second, target):\n",
        "\n",
        "    #could also use linear booster XGBoost\n",
        "    d_train = lgb.Dataset(first.drop(columns=[target]), label=first[target])\n",
        "    d_valid = lgb.Dataset(second.drop(columns=[target]), label=second[target])\n",
        "    params = {\n",
        "      \n",
        "        'boosting_type': 'gbdt',\n",
        "        'objective': 'regression',\n",
        "        'metric': 'rmsle',\n",
        "        'max_depth': 6, \n",
        "        'learning_rate': 0.1,\n",
        "        'verbose': 0,\n",
        "      'num_threads':16}\n",
        "    n_estimators = 100\n",
        "\n",
        "    model = lgb.train(params, d_train, 100, verbose_eval=1)\n",
        "\n",
        "    explainer = shap.TreeExplainer(model)\n",
        "    shap_values = explainer.shap_values(first.drop([target], axis=1))\n",
        "    shap_fram = pd.DataFrame(shap_values[:,:], columns=list(first.drop([target], axis=1).columns))\n",
        "    shap_new = shap_fram.sum().sort_values().to_frame()\n",
        "    \n",
        "    return shap_new, explainer, model\n",
        "\n",
        "  def shap_frame_keras(first,second, target):\n",
        "    # Set the input shape\n",
        "    input_shape = (len(first.columns),)\n",
        "    print(f'Feature shape: {input_shape}')\n",
        "\n",
        "    # Create the model\n",
        "    model = Sequential()\n",
        "    model.add(Dense(16, input_shape=input_shape, activation='relu'))\n",
        "    model.add(Dense(8, activation='relu'))\n",
        "    model.add(Dense(1, activation='linear'))\n",
        "\n",
        "\n",
        "    # Configure the model and start training\n",
        "    model.compile(loss='mean_absolute_error', optimizer='adam', metrics=['mean_squared_error'])\n",
        "    model.fit(first.drop(columns=[target]), first[target], epochs=10, batch_size=10, verbose=1, validation_split=0.2)\n",
        "\n",
        "    explainer = shap.DeepExplainer(model)\n",
        "\n",
        "    shap_values = explainer.shap_values(first.drop([target], axis=1))\n",
        "    shap_fram = pd.DataFrame(shap_values[:,:], columns=list(first.drop([target], axis=1).columns))\n",
        "    shap_new = shap_fram.sum().sort_values().to_frame()\n",
        "    \n",
        "    return shap_new, explainer, model\n",
        "\n",
        "\n",
        "  ##new_df = first.drop(cols_drop, axis=1)\n",
        "\n",
        "  ### Main Features\n",
        "\n",
        "  ### Main Calculations\n",
        "  ##shap_new, explainer, model = shap_frame(first,second,target)\n",
        "\n",
        "  shap_new, explainer, model = shap_frame_keras(first,second,target)\n",
        "\n",
        "  shap_new_abs = shap_new[0].abs()\n",
        "  shap_new_abs = shap_new_abs.sort_values(ascending=False)\n",
        "  main_ft = shap_new_abs[shap_new_abs.cumsum().sub((shap_new_abs.sum()*sqr_portion)).le(0)]\n",
        "\n",
        "  preds = model.predict(second.drop(columns=[target]))\n",
        "  mse = mean_squared_error(second[target], preds)\n",
        "  print(mse)\n",
        "\n",
        "  def main_calc(new_df,main_ft):\n",
        "    df_square = new_df[list(main_ft.index)]\n",
        "    sqr_name = [fa+\"_power_2\" for fa in df_square.columns]\n",
        "    log_p_name = [fa+\"_log_p_one_abs\" for fa in df_square.columns]\n",
        "    rec_p_name = [fa+\"_recip_p_one\" for fa in df_square.columns]\n",
        "    sqrt_name = [fa+\"_sqrt_p_one\" for fa in df_square.columns]\n",
        "\n",
        "    df_sqr = pd.DataFrame(np.power(df_square.values, 2),columns=sqr_name, index=new_df.index)\n",
        "    df_log = pd.DataFrame(np.log(df_square.add(1).abs().values),columns=log_p_name, index=new_df.index)\n",
        "    df_rec = pd.DataFrame(np.reciprocal(df_square.add(1).values),columns=rec_p_name, index=new_df.index)\n",
        "    df_sqrt = pd.DataFrame(np.sqrt(df_square.abs().add(1).values),columns=sqrt_name, index=new_df.index)\n",
        "\n",
        "    dfs = [df_sqr, df_log, df_rec, df_sqrt]\n",
        "\n",
        "    df_connect=  pd.concat(dfs, axis=1)\n",
        "\n",
        "    return df_connect\n",
        "\n",
        "  ## An attempt to decrease the amount of interactin features.\n",
        "\n",
        "  select_ft = shap_new_abs[shap_new_abs.cumsum().sub((shap_new_abs.sum()*contribution_portion)).le(0)]\n",
        "  select_ft = list(select_ft.index)\n",
        "  select_ft.append(target)\n",
        "\n",
        "  shap_select, explainer, model = shap_frame(first[select_ft], second[select_ft], target )\n",
        "  shap_select_abs = shap_select[0].abs()\n",
        "\n",
        "  ### Interactions Features\n",
        "  shap_interaction_values = explainer.shap_interaction_values(first[select_ft].drop(cols_drop, axis=1))\n",
        "\n",
        "  shap_interaction_values_abs = abs(shap_interaction_values)\n",
        "  df_start = pd.DataFrame(np.sum(shap_interaction_values_abs ,axis=0),columns=first[select_ft].drop(cols_drop, axis=1).columns, index=first[select_ft].drop(cols_drop, axis=1).columns)\n",
        "\n",
        "  #the matrix is symmetric so we need to extract upper triangle matrix without diagonal (k = 1)\n",
        "  sol = (df_start.where(np.triu(np.ones(df_start.shape), k=1).astype(np.bool))\n",
        "                  .stack()\n",
        "                  .sort_values(ascending=False))\n",
        "  #first element of sol series is the pair with the bigest correlation\n",
        "\n",
        "  ## New Data Frames From Feature Interaction and Main Feature\n",
        "  ## If you have features [a, b, c] the default polynomial features(in sklearn the degree is 2) should be [1, a, b, c, a^2, b^2, c^2, ab, bc, ca].\n",
        "\n",
        "  ## Interaction Calculations\n",
        "\n",
        "  dab = sol[sol.cumsum().sub((sol.sum()*inter_portion)).le(0)]\n",
        "\n",
        "  list_one = [da[0] for da in dab.index]\n",
        "  list_two = [da[1] for da in dab.index]\n",
        "\n",
        "  def inter_cal(list_one, list_two,new_df):\n",
        "\n",
        "    mult = [ra+\"_X_\"+ba for ra, ba in zip(list_one, list_two)]\n",
        "    div = [ra+\"_/_\"+ba for ra, ba in zip(list_one, list_two)]\n",
        "    print(\"len one \" + str(len(list_one)) )\n",
        "    print(\"len two \" + str(len(list_two)) )\n",
        "    inter_mult = pd.DataFrame(new_df[list_one].values*new_df[list_two].values, columns=mult, index=new_df.index)\n",
        "    div_p_one = pd.DataFrame(new_df[list_one].add(1).values/new_df[list_two].add(1).values, columns=div, index=new_df.index)\n",
        "\n",
        "    df_one = pd.concat((inter_mult,div_p_one), axis=1)\n",
        "\n",
        "    return df_one\n",
        "\n",
        "\n",
        "  def combine(target, list_one, list_two, main_ft, new_df):\n",
        "\n",
        "    inter_mult = inter_cal(list_one, list_two, new_df.drop(columns=[target]))\n",
        "\n",
        "    df_sqr = main_calc(new_df.drop(columns=[target]),main_ft)\n",
        "\n",
        "    new = pd.concat((inter_mult,df_sqr),axis=1)\n",
        "    new2 = pd.concat((new_df,new),axis=1)\n",
        "\n",
        "    return new2\n",
        "\n",
        "  new_first = combine(target, list_one, list_two, main_ft, first)\n",
        "\n",
        "  new_second = combine(target, list_one, list_two, main_ft, second)\n",
        "\n",
        "  if final:\n",
        "    print(\"final\")\n",
        "    shap_select, explainer, model = shap_frame(new_first, new_second,target )\n",
        "    ### Can be put into function, somewhat unnecessary\n",
        "    shap_select_abs = shap_select[0].abs()\n",
        "    shap_select_abs = shap_select_abs.sort_values(ascending=False)\n",
        "    final_ft = shap_select_abs[shap_select_abs.cumsum().sub((shap_select_abs.sum()*final_contribution)).le(0)]\n",
        "    final_ft = list(final_ft.index)\n",
        "    final_ft.append(target)\n",
        "    return new_first,new_second, mse,final_ft, shap_select_abs\n",
        "\n",
        "  return new_first,new_second, mse"
      ],
      "execution_count": 0,
      "outputs": []
    },
    {
      "cell_type": "code",
      "metadata": {
        "id": "OT21QuoEHJDf",
        "colab_type": "code",
        "colab": {}
      },
      "source": [
        "import gc\n",
        "def runner(first_run, second_run, target, inter_portion=0.8, sqr_portion=0.8, contribution_portion=0.9, final_contribution=0.95, deflator=0.7, runs=4):\n",
        "#def runner(first_run, second_run, target, inter_portion=0.4, sqr_portion=0.3, contribution_portion=0.9, deflator=0.6, runs=3):\n",
        "  for r in range(runs):\n",
        "    r += 1\n",
        "    if r ==runs:\n",
        "      print(\"final\")\n",
        "      first_run, second_run, mse, shapper, shap_select_abs = modelling(first_run, second_run, target, inter_portion, sqr_portion, contribution_portion, final_contribution, True)\n",
        "    else:\n",
        "      first_run, second_run, mse = modelling(first_run, second_run, target, inter_portion, sqr_portion, contribution_portion, final_contribution, False)\n",
        "\n",
        "    inter_portion = inter_portion * deflator\n",
        "    sqr_portion = sqr_portion * deflator\n",
        "    contribution_portion = contribution_portion * deflator\n",
        "    gc.collect()\n",
        "  \n",
        "  return first_run, second_run, shapper, shap_select_abs"
      ],
      "execution_count": 0,
      "outputs": []
    },
    {
      "cell_type": "code",
      "metadata": {
        "id": "SArcKbhwh0h9",
        "colab_type": "code",
        "colab": {
          "base_uri": "https://localhost:8080/",
          "height": 332
        },
        "outputId": "df34a800-3c9a-4781-efee-6ffddf7b7445"
      },
      "source": [
        "new_first_two, new_second_two, shapper, shap_select_abs = runner(first, second, target)"
      ],
      "execution_count": 57,
      "outputs": [
        {
          "output_type": "stream",
          "text": [
            "Feature shape: (54,)\n"
          ],
          "name": "stdout"
        },
        {
          "output_type": "error",
          "ename": "NameError",
          "evalue": "ignored",
          "traceback": [
            "\u001b[0;31m---------------------------------------------------------------------------\u001b[0m",
            "\u001b[0;31mNameError\u001b[0m                                 Traceback (most recent call last)",
            "\u001b[0;32m<ipython-input-57-b12b2abdd6a9>\u001b[0m in \u001b[0;36m<module>\u001b[0;34m()\u001b[0m\n\u001b[0;32m----> 1\u001b[0;31m \u001b[0mnew_first_two\u001b[0m\u001b[0;34m,\u001b[0m \u001b[0mnew_second_two\u001b[0m\u001b[0;34m,\u001b[0m \u001b[0mshapper\u001b[0m\u001b[0;34m,\u001b[0m \u001b[0mshap_select_abs\u001b[0m \u001b[0;34m=\u001b[0m \u001b[0mrunner\u001b[0m\u001b[0;34m(\u001b[0m\u001b[0mfirst\u001b[0m\u001b[0;34m,\u001b[0m \u001b[0msecond\u001b[0m\u001b[0;34m,\u001b[0m \u001b[0mtarget\u001b[0m\u001b[0;34m)\u001b[0m\u001b[0;34m\u001b[0m\u001b[0;34m\u001b[0m\u001b[0m\n\u001b[0m",
            "\u001b[0;32m<ipython-input-56-cd48bbfd1ad5>\u001b[0m in \u001b[0;36mrunner\u001b[0;34m(first_run, second_run, target, inter_portion, sqr_portion, contribution_portion, final_contribution, deflator, runs)\u001b[0m\n\u001b[1;32m      8\u001b[0m       \u001b[0mfirst_run\u001b[0m\u001b[0;34m,\u001b[0m \u001b[0msecond_run\u001b[0m\u001b[0;34m,\u001b[0m \u001b[0mmse\u001b[0m\u001b[0;34m,\u001b[0m \u001b[0mshapper\u001b[0m\u001b[0;34m,\u001b[0m \u001b[0mshap_select_abs\u001b[0m \u001b[0;34m=\u001b[0m \u001b[0mmodelling\u001b[0m\u001b[0;34m(\u001b[0m\u001b[0mfirst_run\u001b[0m\u001b[0;34m,\u001b[0m \u001b[0msecond_run\u001b[0m\u001b[0;34m,\u001b[0m \u001b[0mtarget\u001b[0m\u001b[0;34m,\u001b[0m \u001b[0minter_portion\u001b[0m\u001b[0;34m,\u001b[0m \u001b[0msqr_portion\u001b[0m\u001b[0;34m,\u001b[0m \u001b[0mcontribution_portion\u001b[0m\u001b[0;34m,\u001b[0m \u001b[0mfinal_contribution\u001b[0m\u001b[0;34m,\u001b[0m \u001b[0;32mTrue\u001b[0m\u001b[0;34m)\u001b[0m\u001b[0;34m\u001b[0m\u001b[0;34m\u001b[0m\u001b[0m\n\u001b[1;32m      9\u001b[0m     \u001b[0;32melse\u001b[0m\u001b[0;34m:\u001b[0m\u001b[0;34m\u001b[0m\u001b[0;34m\u001b[0m\u001b[0m\n\u001b[0;32m---> 10\u001b[0;31m       \u001b[0mfirst_run\u001b[0m\u001b[0;34m,\u001b[0m \u001b[0msecond_run\u001b[0m\u001b[0;34m,\u001b[0m \u001b[0mmse\u001b[0m \u001b[0;34m=\u001b[0m \u001b[0mmodelling\u001b[0m\u001b[0;34m(\u001b[0m\u001b[0mfirst_run\u001b[0m\u001b[0;34m,\u001b[0m \u001b[0msecond_run\u001b[0m\u001b[0;34m,\u001b[0m \u001b[0mtarget\u001b[0m\u001b[0;34m,\u001b[0m \u001b[0minter_portion\u001b[0m\u001b[0;34m,\u001b[0m \u001b[0msqr_portion\u001b[0m\u001b[0;34m,\u001b[0m \u001b[0mcontribution_portion\u001b[0m\u001b[0;34m,\u001b[0m \u001b[0mfinal_contribution\u001b[0m\u001b[0;34m,\u001b[0m \u001b[0;32mFalse\u001b[0m\u001b[0;34m)\u001b[0m\u001b[0;34m\u001b[0m\u001b[0;34m\u001b[0m\u001b[0m\n\u001b[0m\u001b[1;32m     11\u001b[0m \u001b[0;34m\u001b[0m\u001b[0m\n\u001b[1;32m     12\u001b[0m     \u001b[0minter_portion\u001b[0m \u001b[0;34m=\u001b[0m \u001b[0minter_portion\u001b[0m \u001b[0;34m*\u001b[0m \u001b[0mdeflator\u001b[0m\u001b[0;34m\u001b[0m\u001b[0;34m\u001b[0m\u001b[0m\n",
            "\u001b[0;32m<ipython-input-55-910fa681428d>\u001b[0m in \u001b[0;36mmodelling\u001b[0;34m(first, second, target, inter_portion, sqr_portion, contribution_portion, final_contribution, final)\u001b[0m\n\u001b[1;32m     66\u001b[0m   \u001b[0;31m##shap_new, explainer, model = shap_frame(first,second,target)\u001b[0m\u001b[0;34m\u001b[0m\u001b[0;34m\u001b[0m\u001b[0;34m\u001b[0m\u001b[0m\n\u001b[1;32m     67\u001b[0m \u001b[0;34m\u001b[0m\u001b[0m\n\u001b[0;32m---> 68\u001b[0;31m   \u001b[0mshap_new\u001b[0m\u001b[0;34m,\u001b[0m \u001b[0mexplainer\u001b[0m\u001b[0;34m,\u001b[0m \u001b[0mmodel\u001b[0m \u001b[0;34m=\u001b[0m \u001b[0mshap_frame_keras\u001b[0m\u001b[0;34m(\u001b[0m\u001b[0mfirst\u001b[0m\u001b[0;34m,\u001b[0m\u001b[0msecond\u001b[0m\u001b[0;34m,\u001b[0m\u001b[0mtarget\u001b[0m\u001b[0;34m)\u001b[0m\u001b[0;34m\u001b[0m\u001b[0;34m\u001b[0m\u001b[0m\n\u001b[0m\u001b[1;32m     69\u001b[0m \u001b[0;34m\u001b[0m\u001b[0m\n\u001b[1;32m     70\u001b[0m   \u001b[0mshap_new_abs\u001b[0m \u001b[0;34m=\u001b[0m \u001b[0mshap_new\u001b[0m\u001b[0;34m[\u001b[0m\u001b[0;36m0\u001b[0m\u001b[0;34m]\u001b[0m\u001b[0;34m.\u001b[0m\u001b[0mabs\u001b[0m\u001b[0;34m(\u001b[0m\u001b[0;34m)\u001b[0m\u001b[0;34m\u001b[0m\u001b[0;34m\u001b[0m\u001b[0m\n",
            "\u001b[0;32m<ipython-input-55-910fa681428d>\u001b[0m in \u001b[0;36mshap_frame_keras\u001b[0;34m(first, second, target)\u001b[0m\n\u001b[1;32m     40\u001b[0m \u001b[0;34m\u001b[0m\u001b[0m\n\u001b[1;32m     41\u001b[0m     \u001b[0;31m# Create the model\u001b[0m\u001b[0;34m\u001b[0m\u001b[0;34m\u001b[0m\u001b[0;34m\u001b[0m\u001b[0m\n\u001b[0;32m---> 42\u001b[0;31m     \u001b[0mmodel\u001b[0m \u001b[0;34m=\u001b[0m \u001b[0mSequential\u001b[0m\u001b[0;34m(\u001b[0m\u001b[0;34m)\u001b[0m\u001b[0;34m\u001b[0m\u001b[0;34m\u001b[0m\u001b[0m\n\u001b[0m\u001b[1;32m     43\u001b[0m     \u001b[0mmodel\u001b[0m\u001b[0;34m.\u001b[0m\u001b[0madd\u001b[0m\u001b[0;34m(\u001b[0m\u001b[0mDense\u001b[0m\u001b[0;34m(\u001b[0m\u001b[0;36m16\u001b[0m\u001b[0;34m,\u001b[0m \u001b[0minput_shape\u001b[0m\u001b[0;34m=\u001b[0m\u001b[0minput_shape\u001b[0m\u001b[0;34m,\u001b[0m \u001b[0mactivation\u001b[0m\u001b[0;34m=\u001b[0m\u001b[0;34m'relu'\u001b[0m\u001b[0;34m)\u001b[0m\u001b[0;34m)\u001b[0m\u001b[0;34m\u001b[0m\u001b[0;34m\u001b[0m\u001b[0m\n\u001b[1;32m     44\u001b[0m     \u001b[0mmodel\u001b[0m\u001b[0;34m.\u001b[0m\u001b[0madd\u001b[0m\u001b[0;34m(\u001b[0m\u001b[0mDense\u001b[0m\u001b[0;34m(\u001b[0m\u001b[0;36m8\u001b[0m\u001b[0;34m,\u001b[0m \u001b[0mactivation\u001b[0m\u001b[0;34m=\u001b[0m\u001b[0;34m'relu'\u001b[0m\u001b[0;34m)\u001b[0m\u001b[0;34m)\u001b[0m\u001b[0;34m\u001b[0m\u001b[0;34m\u001b[0m\u001b[0m\n",
            "\u001b[0;31mNameError\u001b[0m: name 'Sequential' is not defined"
          ]
        }
      ]
    },
    {
      "cell_type": "code",
      "metadata": {
        "id": "MICfI--_frUK",
        "colab_type": "code",
        "colab": {
          "base_uri": "https://localhost:8080/",
          "height": 494
        },
        "outputId": "d9db7481-dd3f-41b7-d201-90014beba788"
      },
      "source": [
        "new_first_two, new_second_two, shapper, shap_select_abs = runner(first, second, target)"
      ],
      "execution_count": 7,
      "outputs": [
        {
          "output_type": "stream",
          "text": [
            "Setting feature_perturbation = \"tree_path_dependent\" because no background data was given.\n"
          ],
          "name": "stderr"
        },
        {
          "output_type": "stream",
          "text": [
            "11401.16549954644\n"
          ],
          "name": "stdout"
        },
        {
          "output_type": "stream",
          "text": [
            "Setting feature_perturbation = \"tree_path_dependent\" because no background data was given.\n"
          ],
          "name": "stderr"
        },
        {
          "output_type": "stream",
          "text": [
            "len one 21\n",
            "len two 21\n",
            "len one 21\n",
            "len two 21\n",
            "11668.227006723617\n"
          ],
          "name": "stdout"
        },
        {
          "output_type": "stream",
          "text": [
            "Setting feature_perturbation = \"tree_path_dependent\" because no background data was given.\n"
          ],
          "name": "stderr"
        },
        {
          "output_type": "stream",
          "text": [
            "len one 12\n",
            "len two 12\n",
            "len one 12\n",
            "len two 12\n",
            "11726.248034869697\n"
          ],
          "name": "stdout"
        },
        {
          "output_type": "stream",
          "text": [
            "Setting feature_perturbation = \"tree_path_dependent\" because no background data was given.\n"
          ],
          "name": "stderr"
        },
        {
          "output_type": "stream",
          "text": [
            "len one 4\n",
            "len two 4\n",
            "len one 4\n",
            "len two 4\n",
            "final\n",
            "11810.967778923108\n"
          ],
          "name": "stdout"
        },
        {
          "output_type": "stream",
          "text": [
            "Setting feature_perturbation = \"tree_path_dependent\" because no background data was given.\n"
          ],
          "name": "stderr"
        },
        {
          "output_type": "stream",
          "text": [
            "len one 3\n",
            "len two 3\n",
            "len one 3\n",
            "len two 3\n",
            "final\n"
          ],
          "name": "stdout"
        }
      ]
    },
    {
      "cell_type": "code",
      "metadata": {
        "id": "-ssTzgPs505R",
        "colab_type": "code",
        "colab": {
          "base_uri": "https://localhost:8080/",
          "height": 35
        },
        "outputId": "cdbeabe0-a844-4b02-cb31-2e6fc529fb75"
      },
      "source": [
        "new_first_two.shape"
      ],
      "execution_count": 8,
      "outputs": [
        {
          "output_type": "execute_result",
          "data": {
            "text/plain": [
              "(5226, 238)"
            ]
          },
          "metadata": {
            "tags": []
          },
          "execution_count": 8
        }
      ]
    },
    {
      "cell_type": "code",
      "metadata": {
        "id": "mk6KH0Nn4UlK",
        "colab_type": "code",
        "colab": {}
      },
      "source": [
        "cap = shapper"
      ],
      "execution_count": 0,
      "outputs": []
    },
    {
      "cell_type": "code",
      "metadata": {
        "id": "yHR5KafV-iZy",
        "colab_type": "code",
        "colab": {}
      },
      "source": [
        "# shap_select_abs = shap_select_abs.sort_values(ascending=False)\n",
        "# shap_select_abs[shap_select_abs.cumsum().sub((shap_select_abs.sum()*0.9)).le(0)].shape\n"
      ],
      "execution_count": 0,
      "outputs": []
    },
    {
      "cell_type": "code",
      "metadata": {
        "id": "jeDAKg5G_7oU",
        "colab_type": "code",
        "colab": {}
      },
      "source": [
        "import pandas as pd\n",
        "from sklearn import preprocessing\n",
        "\n",
        "def scaler(df):\n",
        "  x = df.values #returns a numpy array\n",
        "  min_max_scaler = preprocessing.MinMaxScaler()\n",
        "  x_scaled = min_max_scaler.fit_transform(x)\n",
        "  df = pd.DataFrame(x_scaled, index=df.index, columns=df.columns)\n",
        "  return df\n",
        "\n",
        "shapper = new_first_two.columns\n",
        "shapper = cap\n",
        "\n",
        "new_first_y = new_first_two[target]\n",
        "new_first = new_first_two[shapper]\n",
        "new_first = scaler(new_first.drop([target],axis=1))\n",
        "\n",
        "new_second_y = new_second_two[target]\n",
        "new_second = new_second_two[shapper]\n",
        "new_second = scaler(new_second.drop([target],axis=1)) "
      ],
      "execution_count": 0,
      "outputs": []
    },
    {
      "cell_type": "code",
      "metadata": {
        "id": "GDQ5rlSHD-d6",
        "colab_type": "code",
        "colab": {
          "base_uri": "https://localhost:8080/",
          "height": 35
        },
        "outputId": "ae88a00e-8b17-4e57-b9fc-e6be604aea1f"
      },
      "source": [
        "from sklearn import linear_model\n",
        "clf = linear_model.Lasso(alpha=0.06, tol =0.001)\n",
        "lass = clf.fit(new_first,new_first_y)\n",
        "preds = lass.predict(new_second)\n",
        "mse = mean_squared_error(new_second_y, preds)\n",
        "print(mse)\n",
        "\n",
        "# #12381 0.10\n"
      ],
      "execution_count": 50,
      "outputs": [
        {
          "output_type": "stream",
          "text": [
            "13650.30893599866\n"
          ],
          "name": "stdout"
        }
      ]
    },
    {
      "cell_type": "code",
      "metadata": {
        "id": "K_RV5vUeEw03",
        "colab_type": "code",
        "colab": {}
      },
      "source": [
        "from sklearn.feature_selection import SelectFromModel\n",
        "# max_features\n",
        "model = SelectFromModel(lass, prefit=True)\n",
        "X_train = new_first_two[new_first.columns[model.get_support(indices=True)]]\n",
        "new_first_y = new_first_two[target]\n",
        "\n",
        "\n",
        "X_test = new_second_two[list(X_train.columns)]\n",
        "new_second_y = new_second_two[target]\n"
      ],
      "execution_count": 0,
      "outputs": []
    },
    {
      "cell_type": "code",
      "metadata": {
        "id": "6xFB60E4d4cb",
        "colab_type": "code",
        "colab": {
          "base_uri": "https://localhost:8080/",
          "height": 35
        },
        "outputId": "f4b78d09-3f0a-4fb6-efff-6de4161e7399"
      },
      "source": [
        "from sklearn import linear_model\n",
        "lm = linear_model.LinearRegression()\n",
        "lm = lm.fit(X_train.values,new_first_y.values)\n",
        "preds = lm.predict(X_test.values)\n",
        "\n",
        "mse = mean_squared_error(new_second_y.values, preds)\n",
        "print(mse)\n",
        "\n",
        "#12381 0.10"
      ],
      "execution_count": 52,
      "outputs": [
        {
          "output_type": "stream",
          "text": [
            "12460.55605869834\n"
          ],
          "name": "stdout"
        }
      ]
    },
    {
      "cell_type": "code",
      "metadata": {
        "id": "3FF2jCuNFH_z",
        "colab_type": "code",
        "colab": {
          "base_uri": "https://localhost:8080/",
          "height": 35
        },
        "outputId": "a68cf837-496a-4cc3-dfef-cb49870571c1"
      },
      "source": [
        "from sklearn import linear_model\n",
        "lm = linear_model.LinearRegression()\n",
        "lm = lm.fit(X_train.values,new_first_y.values)\n",
        "preds = lm.predict(X_test.values)\n",
        "\n",
        "mse = mean_squared_error(new_second_y.values, preds)\n",
        "print(mse)\n",
        "\n",
        "#12381 0.10"
      ],
      "execution_count": 18,
      "outputs": [
        {
          "output_type": "stream",
          "text": [
            "12460.55605869834\n"
          ],
          "name": "stdout"
        }
      ]
    },
    {
      "cell_type": "code",
      "metadata": {
        "id": "EdtY_TLvB_45",
        "colab_type": "code",
        "colab": {}
      },
      "source": [
        "import pandas as pd\n",
        "from sklearn import preprocessing\n",
        "\n",
        "def scaler(df):\n",
        "  x = df.values #returns a numpy array\n",
        "  min_max_scaler = preprocessing.MinMaxScaler()\n",
        "  x_scaled = min_max_scaler.fit_transform(x)\n",
        "  df = pd.DataFrame(x_scaled)\n",
        "  return df\n",
        "\n",
        "add_first_y = first[target]\n",
        "add_first = scaler(first.drop([target],axis=1))\n",
        "\n",
        "add_second_y = second[target]\n",
        "add_second = scaler(second.drop([target],axis=1)) \n"
      ],
      "execution_count": 0,
      "outputs": []
    },
    {
      "cell_type": "code",
      "metadata": {
        "id": "06e-K1qFDYwC",
        "colab_type": "code",
        "colab": {
          "base_uri": "https://localhost:8080/",
          "height": 35
        },
        "outputId": "fb8a92e1-7e35-4b83-b180-044721b95a80"
      },
      "source": [
        "from sklearn import linear_model\n",
        "#clf = linear_model.Lasso(alpha=0.4)\n",
        "clf = linear_model.LinearRegression()\n",
        "preds = clf.fit(add_first,add_first_y).predict(add_second)\n",
        "mse = mean_squared_error(add_second_y, preds)\n",
        "print(mse)\n"
      ],
      "execution_count": 22,
      "outputs": [
        {
          "output_type": "stream",
          "text": [
            "15837.217936276827\n"
          ],
          "name": "stdout"
        }
      ]
    },
    {
      "cell_type": "code",
      "metadata": {
        "id": "Y-Vzp5TYaxe7",
        "colab_type": "code",
        "colab": {
          "base_uri": "https://localhost:8080/",
          "height": 494
        },
        "outputId": "4f1562b9-fec1-4f8a-ccf1-68af693c98f6"
      },
      "source": [
        "X_train.columns"
      ],
      "execution_count": 30,
      "outputs": [
        {
          "output_type": "execute_result",
          "data": {
            "text/plain": [
              "Index(['bedrooms_X_bathrooms_X_longitude', 'bedrooms_X_bathrooms_/_longitude',\n",
              "       'bedrooms_X_Entire home/apt_/_longitude',\n",
              "       'bedrooms_X_Entire home/apt_/_accommodates_/_latitude_X_bedrooms_X_Entire home/apt_X_bedrooms_X_bathrooms_X_accommodates_X_security_deposit_recip_p_one',\n",
              "       'bathrooms_X_past_and_future_popularity', 'bathrooms_/_latitude',\n",
              "       'bathrooms_X_security_deposit_recip_p_one',\n",
              "       'accommodates_/_latitude_X_Entire home/apt', 'number_of_reviews',\n",
              "       'bedrooms_X_Entire home/apt_/_accommodates_/_latitude_X_bedrooms_X_Entire home/apt_X_bedrooms_X_bathrooms_X_bedrooms_/_past_and_future_popularity',\n",
              "       'review_scores_rating', 'cleaning_fee',\n",
              "       'bedrooms_X_Entire home/apt_/_accommodates_/_latitude_X_bedrooms_X_Entire home/apt_X_bedrooms_X_bathrooms_recip_p_one',\n",
              "       'bedrooms_X_Entire home/apt_/_bedrooms_X_bathrooms',\n",
              "       'bathrooms_/_past_and_future_popularity_X_accommodates_X_security_deposit',\n",
              "       'bathrooms_/_past_and_future_popularity_/_accommodates_X_security_deposit',\n",
              "       'bathrooms_/_past_and_future_popularity', 'availability_365',\n",
              "       'security_deposit_/_past_and_future_popularity',\n",
              "       'bedrooms_/_past_and_future_popularity_recip_p_one',\n",
              "       'bedrooms_X_past_and_future_popularity', 'longitude',\n",
              "       'bedrooms_X_Entire home/apt_X_longitude',\n",
              "       'bedrooms_X_Entire home/apt_X_accommodates_X_security_deposit',\n",
              "       'Boutique hotel', 'strict_14_with_grace_period',\n",
              "       'accommodates_X_security_deposit', 'House', 'latitude',\n",
              "       'bathrooms_X_accommodates',\n",
              "       'bedrooms_X_Entire home/apt_X_bathrooms_/_past_and_future_popularity',\n",
              "       'Shared room', 'bathrooms_/_security_deposit',\n",
              "       'bedrooms_X_bathrooms_X_longitude_/_bedrooms_X_Entire home/apt_X_bedrooms_X_bathrooms',\n",
              "       'bathrooms_per_person_X_security_deposit', 'bathrooms_/_accommodates',\n",
              "       'bathrooms_X_latitude', 'Private room'],\n",
              "      dtype='object')"
            ]
          },
          "metadata": {
            "tags": []
          },
          "execution_count": 30
        }
      ]
    },
    {
      "cell_type": "code",
      "metadata": {
        "id": "HJTgfpVydapZ",
        "colab_type": "code",
        "colab": {}
      },
      "source": [
        "new_first_two"
      ],
      "execution_count": 0,
      "outputs": []
    },
    {
      "cell_type": "code",
      "metadata": {
        "id": "AKIJMWVHbdVR",
        "colab_type": "code",
        "colab": {
          "base_uri": "https://localhost:8080/",
          "height": 278
        },
        "outputId": "2ac9a6c4-2cea-4856-81d2-5c0fd39e14fc"
      },
      "source": [
        "list(new_first.columns)"
      ],
      "execution_count": 53,
      "outputs": [
        {
          "output_type": "execute_result",
          "data": {
            "text/html": [
              "['bedrooms_X_Entire home/apt_/_accommodates_/_latitude_X_bedrooms_X_Entire home/apt_X_bedrooms_X_bathrooms_X_accommodates_/_past_and_future_popularity', 'accommodates_/_latitude_/_Entire home/apt_recip_p_one', 'accommodates_/_latitude_/_Entire home/apt_recip_p_one', 'bedrooms_X_bathrooms_X_longitude', 'bedrooms_X_Entire home/apt_/_accommodates_/_latitude_recip_p_one', 'bedrooms_X_bathrooms_/_longitude', 'accommodates_X_past_and_future_popularity', 'bedrooms_X_Entire home/apt_/_accommodates_/_latitude_X_bedrooms_X_Entire home/apt_X_bedrooms_X_bathrooms', 'security_deposit_X_latitude', 'bathrooms_per_person_/_security_deposit', 'accommodates_/_latitude_/_Entire home/apt', 'bedrooms_X_Entire home/apt_/_longitude', 'accommodates_/_past_and_future_popularity_recip_p_one', 'bedrooms_X_Entire home/apt_/_bathrooms_/_past_and_future_popularity', 'bedrooms_X_Entire home/apt_/_accommodates_X_security_deposit', 'bedrooms_X_bathrooms_X_longitude_X_bedrooms_X_Entire home/apt_/_accommodates_/_latitude', 'bedrooms_X_Entire home/apt_/_accommodates_/_latitude_X_bedrooms_X_Entire home/apt_X_bedrooms_X_bathrooms_X_accommodates_X_security_deposit_recip_p_one', 'bathrooms_X_past_and_future_popularity', 'bedrooms_X_Entire home/apt_X_accommodates_/_latitude', 'bedrooms_X_latitude', 'accommodates_/_latitude_X_bathrooms_/_past_and_future_popularity', 'bathrooms_/_latitude', 'bathrooms_X_security_deposit_recip_p_one', 'accommodates_/_latitude_X_Entire home/apt', 'bedrooms_X_bathrooms_X_longitude_recip_p_one', 'accommodates_/_latitude_/_bedrooms_/_latitude', 'number_of_reviews', 'bedrooms_X_Entire home/apt_/_accommodates_/_latitude_X_bedrooms_X_Entire home/apt_X_bedrooms_X_bathrooms_X_bedrooms_/_past_and_future_popularity', 'bedrooms_X_Entire home/apt_/_accommodates_/_latitude', 'review_scores_rating', 'accommodates_/_past_and_future_popularity', 'cleaning_fee', 'bedrooms_X_Entire home/apt_/_accommodates_/_latitude_X_bedrooms_X_Entire home/apt_X_bedrooms_X_bathrooms_recip_p_one', 'bedrooms_X_Entire home/apt_/_bedrooms_X_bathrooms', 'bathrooms_/_past_and_future_popularity_X_accommodates_X_security_deposit', 'bathrooms_/_past_and_future_popularity_/_accommodates_X_security_deposit', 'bathrooms_/_past_and_future_popularity', 'bedrooms_X_Entire home/apt_X_bathrooms_X_accommodates', 'availability_365', 'accommodates_/_latitude_X_bedrooms_/_latitude', 'bedrooms_X_bathrooms_X_longitude_X_bedrooms_X_Entire home/apt_X_bedrooms_X_bathrooms', 'security_deposit_/_past_and_future_popularity', 'bedrooms_X_Entire home/apt_/_accommodates_/_latitude_X_accommodates_/_past_and_future_popularity', 'bedrooms_X_bathrooms_X_longitude_/_bedrooms_X_Entire home/apt_/_accommodates_/_latitude', 'bedrooms_/_past_and_future_popularity_recip_p_one', 'bedrooms_X_Entire home/apt_/_accommodates_/_latitude_X_bedrooms_X_Entire home/apt_X_bedrooms_X_bathrooms_/_accommodates_X_security_deposit_recip_p_one', 'security_deposit_/_latitude', 'bedrooms_X_past_and_future_popularity', 'bedrooms_/_past_and_future_popularity', 'bedrooms_/_latitude', 'longitude', 'bedrooms_X_Entire home/apt_X_longitude', 'bedrooms_X_Entire home/apt_X_accommodates_X_security_deposit', 'Boutique hotel', 'strict_14_with_grace_period', 'bedrooms_/_past_and_future_popularity_power_2', 'accommodates_X_security_deposit', 'House', 'latitude', 'accommodates_X_security_deposit_recip_p_one', 'bathrooms_X_accommodates', 'bedrooms_X_Entire home/apt_X_bathrooms_/_past_and_future_popularity', 'Shared room', 'bathrooms_/_security_deposit', 'bedrooms_X_Entire home/apt_X_bedrooms_X_bathrooms', 'bedrooms_X_bathrooms_X_longitude_/_bedrooms_X_Entire home/apt_X_bedrooms_X_bathrooms', 'bedrooms_X_Entire home/apt_/_accommodates_/_latitude_X_bedrooms_X_Entire home/apt_X_bedrooms_X_bathrooms_/_accommodates_/_past_and_future_popularity', 'bathrooms_per_person_X_security_deposit', 'bathrooms_/_accommodates', 'bathrooms_X_latitude', 'Private room', 'accommodates_/_latitude_power_2']"
            ],
            "text/plain": [
              "['bedrooms_X_Entire home/apt_/_accommodates_/_latitude_X_bedrooms_X_Entire home/apt_X_bedrooms_X_bathrooms_X_accommodates_/_past_and_future_popularity',\n",
              " 'accommodates_/_latitude_/_Entire home/apt_recip_p_one',\n",
              " 'accommodates_/_latitude_/_Entire home/apt_recip_p_one',\n",
              " 'bedrooms_X_bathrooms_X_longitude',\n",
              " 'bedrooms_X_Entire home/apt_/_accommodates_/_latitude_recip_p_one',\n",
              " 'bedrooms_X_bathrooms_/_longitude',\n",
              " 'accommodates_X_past_and_future_popularity',\n",
              " 'bedrooms_X_Entire home/apt_/_accommodates_/_latitude_X_bedrooms_X_Entire home/apt_X_bedrooms_X_bathrooms',\n",
              " 'security_deposit_X_latitude',\n",
              " 'bathrooms_per_person_/_security_deposit',\n",
              " 'accommodates_/_latitude_/_Entire home/apt',\n",
              " 'bedrooms_X_Entire home/apt_/_longitude',\n",
              " 'accommodates_/_past_and_future_popularity_recip_p_one',\n",
              " 'bedrooms_X_Entire home/apt_/_bathrooms_/_past_and_future_popularity',\n",
              " 'bedrooms_X_Entire home/apt_/_accommodates_X_security_deposit',\n",
              " 'bedrooms_X_bathrooms_X_longitude_X_bedrooms_X_Entire home/apt_/_accommodates_/_latitude',\n",
              " 'bedrooms_X_Entire home/apt_/_accommodates_/_latitude_X_bedrooms_X_Entire home/apt_X_bedrooms_X_bathrooms_X_accommodates_X_security_deposit_recip_p_one',\n",
              " 'bathrooms_X_past_and_future_popularity',\n",
              " 'bedrooms_X_Entire home/apt_X_accommodates_/_latitude',\n",
              " 'bedrooms_X_latitude',\n",
              " 'accommodates_/_latitude_X_bathrooms_/_past_and_future_popularity',\n",
              " 'bathrooms_/_latitude',\n",
              " 'bathrooms_X_security_deposit_recip_p_one',\n",
              " 'accommodates_/_latitude_X_Entire home/apt',\n",
              " 'bedrooms_X_bathrooms_X_longitude_recip_p_one',\n",
              " 'accommodates_/_latitude_/_bedrooms_/_latitude',\n",
              " 'number_of_reviews',\n",
              " 'bedrooms_X_Entire home/apt_/_accommodates_/_latitude_X_bedrooms_X_Entire home/apt_X_bedrooms_X_bathrooms_X_bedrooms_/_past_and_future_popularity',\n",
              " 'bedrooms_X_Entire home/apt_/_accommodates_/_latitude',\n",
              " 'review_scores_rating',\n",
              " 'accommodates_/_past_and_future_popularity',\n",
              " 'cleaning_fee',\n",
              " 'bedrooms_X_Entire home/apt_/_accommodates_/_latitude_X_bedrooms_X_Entire home/apt_X_bedrooms_X_bathrooms_recip_p_one',\n",
              " 'bedrooms_X_Entire home/apt_/_bedrooms_X_bathrooms',\n",
              " 'bathrooms_/_past_and_future_popularity_X_accommodates_X_security_deposit',\n",
              " 'bathrooms_/_past_and_future_popularity_/_accommodates_X_security_deposit',\n",
              " 'bathrooms_/_past_and_future_popularity',\n",
              " 'bedrooms_X_Entire home/apt_X_bathrooms_X_accommodates',\n",
              " 'availability_365',\n",
              " 'accommodates_/_latitude_X_bedrooms_/_latitude',\n",
              " 'bedrooms_X_bathrooms_X_longitude_X_bedrooms_X_Entire home/apt_X_bedrooms_X_bathrooms',\n",
              " 'security_deposit_/_past_and_future_popularity',\n",
              " 'bedrooms_X_Entire home/apt_/_accommodates_/_latitude_X_accommodates_/_past_and_future_popularity',\n",
              " 'bedrooms_X_bathrooms_X_longitude_/_bedrooms_X_Entire home/apt_/_accommodates_/_latitude',\n",
              " 'bedrooms_/_past_and_future_popularity_recip_p_one',\n",
              " 'bedrooms_X_Entire home/apt_/_accommodates_/_latitude_X_bedrooms_X_Entire home/apt_X_bedrooms_X_bathrooms_/_accommodates_X_security_deposit_recip_p_one',\n",
              " 'security_deposit_/_latitude',\n",
              " 'bedrooms_X_past_and_future_popularity',\n",
              " 'bedrooms_/_past_and_future_popularity',\n",
              " 'bedrooms_/_latitude',\n",
              " 'longitude',\n",
              " 'bedrooms_X_Entire home/apt_X_longitude',\n",
              " 'bedrooms_X_Entire home/apt_X_accommodates_X_security_deposit',\n",
              " 'Boutique hotel',\n",
              " 'strict_14_with_grace_period',\n",
              " 'bedrooms_/_past_and_future_popularity_power_2',\n",
              " 'accommodates_X_security_deposit',\n",
              " 'House',\n",
              " 'latitude',\n",
              " 'accommodates_X_security_deposit_recip_p_one',\n",
              " 'bathrooms_X_accommodates',\n",
              " 'bedrooms_X_Entire home/apt_X_bathrooms_/_past_and_future_popularity',\n",
              " 'Shared room',\n",
              " 'bathrooms_/_security_deposit',\n",
              " 'bedrooms_X_Entire home/apt_X_bedrooms_X_bathrooms',\n",
              " 'bedrooms_X_bathrooms_X_longitude_/_bedrooms_X_Entire home/apt_X_bedrooms_X_bathrooms',\n",
              " 'bedrooms_X_Entire home/apt_/_accommodates_/_latitude_X_bedrooms_X_Entire home/apt_X_bedrooms_X_bathrooms_/_accommodates_/_past_and_future_popularity',\n",
              " 'bathrooms_per_person_X_security_deposit',\n",
              " 'bathrooms_/_accommodates',\n",
              " 'bathrooms_X_latitude',\n",
              " 'Private room',\n",
              " 'accommodates_/_latitude_power_2']"
            ]
          },
          "metadata": {
            "tags": []
          },
          "execution_count": 53
        }
      ]
    },
    {
      "cell_type": "code",
      "metadata": {
        "id": "HWnWZjN88uSS",
        "colab_type": "code",
        "colab": {}
      },
      "source": [
        "# from sklearn.preprocessing import PolynomialFeatures\n",
        "# poly_reg = PolynomialFeatures(degree=3)\n",
        "# PR = poly_reg.fit(add_first)\n",
        "\n",
        "# X_poly = PR.transform(add_first)\n",
        "# X_pred = PR.transform(add_second)\n",
        "\n",
        "# pol_reg = linear_model.LinearRegression()\n",
        "# pol_reg.fit(X_poly, add_first_y)\n",
        "# preds = pol_reg.predict(X_pred)\n",
        "# mse = mean_squared_error(add_second_y, preds)\n",
        "# print(mse)"
      ],
      "execution_count": 0,
      "outputs": []
    },
    {
      "cell_type": "code",
      "metadata": {
        "id": "LtixIRs6aucm",
        "colab_type": "code",
        "colab": {}
      },
      "source": [
        ""
      ],
      "execution_count": 0,
      "outputs": []
    }
  ]
}